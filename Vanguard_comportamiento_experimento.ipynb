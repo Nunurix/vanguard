{
 "cells": [
  {
   "cell_type": "markdown",
   "metadata": {},
   "source": [
    "EDA y limpieza de datos"
   ]
  },
  {
   "cell_type": "markdown",
   "metadata": {},
   "source": [
    "Carga de librerías"
   ]
  },
  {
   "cell_type": "code",
   "execution_count": 2,
   "metadata": {},
   "outputs": [],
   "source": [
    "import pandas as pd\n",
    "import matplotlib.pyplot as plt\n",
    "import numpy as np"
   ]
  },
  {
   "cell_type": "markdown",
   "metadata": {},
   "source": [
    "Carga de datos"
   ]
  },
  {
   "cell_type": "code",
   "execution_count": 6,
   "metadata": {},
   "outputs": [],
   "source": [
    "df_beh=pd.read_csv (\"Proyectos semanales/Vanguard/df_beh.txt\")"
   ]
  },
  {
   "cell_type": "code",
   "execution_count": 43,
   "metadata": {},
   "outputs": [
    {
     "data": {
      "text/html": [
       "<div>\n",
       "<style scoped>\n",
       "    .dataframe tbody tr th:only-of-type {\n",
       "        vertical-align: middle;\n",
       "    }\n",
       "\n",
       "    .dataframe tbody tr th {\n",
       "        vertical-align: top;\n",
       "    }\n",
       "\n",
       "    .dataframe thead th {\n",
       "        text-align: right;\n",
       "    }\n",
       "</style>\n",
       "<table border=\"1\" class=\"dataframe\">\n",
       "  <thead>\n",
       "    <tr style=\"text-align: right;\">\n",
       "      <th></th>\n",
       "      <th>client_id</th>\n",
       "      <th>visitor_id</th>\n",
       "      <th>visit_id</th>\n",
       "      <th>process_step</th>\n",
       "      <th>date_time</th>\n",
       "      <th>Variation</th>\n",
       "      <th>time_spent</th>\n",
       "      <th>step_number</th>\n",
       "      <th>is_error</th>\n",
       "    </tr>\n",
       "  </thead>\n",
       "  <tbody>\n",
       "    <tr>\n",
       "      <th>0</th>\n",
       "      <td>169</td>\n",
       "      <td>201385055_71273495308</td>\n",
       "      <td>749567106_99161211863_557568</td>\n",
       "      <td>start</td>\n",
       "      <td>2017-04-12 20:19:36</td>\n",
       "      <td>UN</td>\n",
       "      <td>NaT</td>\n",
       "      <td>1</td>\n",
       "      <td>False</td>\n",
       "    </tr>\n",
       "    <tr>\n",
       "      <th>1</th>\n",
       "      <td>169</td>\n",
       "      <td>201385055_71273495308</td>\n",
       "      <td>749567106_99161211863_557568</td>\n",
       "      <td>step_1</td>\n",
       "      <td>2017-04-12 20:19:45</td>\n",
       "      <td>UN</td>\n",
       "      <td>0 days 00:00:09</td>\n",
       "      <td>2</td>\n",
       "      <td>False</td>\n",
       "    </tr>\n",
       "    <tr>\n",
       "      <th>2</th>\n",
       "      <td>169</td>\n",
       "      <td>201385055_71273495308</td>\n",
       "      <td>749567106_99161211863_557568</td>\n",
       "      <td>step_2</td>\n",
       "      <td>2017-04-12 20:20:31</td>\n",
       "      <td>UN</td>\n",
       "      <td>0 days 00:00:46</td>\n",
       "      <td>3</td>\n",
       "      <td>False</td>\n",
       "    </tr>\n",
       "    <tr>\n",
       "      <th>3</th>\n",
       "      <td>169</td>\n",
       "      <td>201385055_71273495308</td>\n",
       "      <td>749567106_99161211863_557568</td>\n",
       "      <td>step_3</td>\n",
       "      <td>2017-04-12 20:22:05</td>\n",
       "      <td>UN</td>\n",
       "      <td>0 days 00:01:34</td>\n",
       "      <td>4</td>\n",
       "      <td>False</td>\n",
       "    </tr>\n",
       "    <tr>\n",
       "      <th>4</th>\n",
       "      <td>169</td>\n",
       "      <td>201385055_71273495308</td>\n",
       "      <td>749567106_99161211863_557568</td>\n",
       "      <td>confirm</td>\n",
       "      <td>2017-04-12 20:23:09</td>\n",
       "      <td>UN</td>\n",
       "      <td>0 days 00:01:04</td>\n",
       "      <td>5</td>\n",
       "      <td>False</td>\n",
       "    </tr>\n",
       "    <tr>\n",
       "      <th>...</th>\n",
       "      <td>...</td>\n",
       "      <td>...</td>\n",
       "      <td>...</td>\n",
       "      <td>...</td>\n",
       "      <td>...</td>\n",
       "      <td>...</td>\n",
       "      <td>...</td>\n",
       "      <td>...</td>\n",
       "      <td>...</td>\n",
       "    </tr>\n",
       "    <tr>\n",
       "      <th>449826</th>\n",
       "      <td>9999839</td>\n",
       "      <td>948322592_28990736246</td>\n",
       "      <td>715530422_68620416793_515645</td>\n",
       "      <td>start</td>\n",
       "      <td>2017-03-29 12:11:32</td>\n",
       "      <td>UN</td>\n",
       "      <td>0 days 00:02:37</td>\n",
       "      <td>1</td>\n",
       "      <td>False</td>\n",
       "    </tr>\n",
       "    <tr>\n",
       "      <th>449827</th>\n",
       "      <td>9999839</td>\n",
       "      <td>948322592_28990736246</td>\n",
       "      <td>715530422_68620416793_515645</td>\n",
       "      <td>step_1</td>\n",
       "      <td>2017-03-29 12:11:35</td>\n",
       "      <td>UN</td>\n",
       "      <td>0 days 00:00:03</td>\n",
       "      <td>2</td>\n",
       "      <td>False</td>\n",
       "    </tr>\n",
       "    <tr>\n",
       "      <th>449828</th>\n",
       "      <td>9999839</td>\n",
       "      <td>948322592_28990736246</td>\n",
       "      <td>715530422_68620416793_515645</td>\n",
       "      <td>step_2</td>\n",
       "      <td>2017-03-29 12:11:50</td>\n",
       "      <td>UN</td>\n",
       "      <td>0 days 00:00:15</td>\n",
       "      <td>3</td>\n",
       "      <td>False</td>\n",
       "    </tr>\n",
       "    <tr>\n",
       "      <th>449829</th>\n",
       "      <td>9999839</td>\n",
       "      <td>948322592_28990736246</td>\n",
       "      <td>715530422_68620416793_515645</td>\n",
       "      <td>step_3</td>\n",
       "      <td>2017-03-29 12:12:28</td>\n",
       "      <td>UN</td>\n",
       "      <td>0 days 00:00:38</td>\n",
       "      <td>4</td>\n",
       "      <td>False</td>\n",
       "    </tr>\n",
       "    <tr>\n",
       "      <th>449830</th>\n",
       "      <td>9999839</td>\n",
       "      <td>948322592_28990736246</td>\n",
       "      <td>715530422_68620416793_515645</td>\n",
       "      <td>confirm</td>\n",
       "      <td>2017-03-29 12:13:03</td>\n",
       "      <td>UN</td>\n",
       "      <td>0 days 00:00:35</td>\n",
       "      <td>5</td>\n",
       "      <td>False</td>\n",
       "    </tr>\n",
       "  </tbody>\n",
       "</table>\n",
       "<p>449831 rows × 9 columns</p>\n",
       "</div>"
      ],
      "text/plain": [
       "        client_id             visitor_id                      visit_id  \\\n",
       "0             169  201385055_71273495308  749567106_99161211863_557568   \n",
       "1             169  201385055_71273495308  749567106_99161211863_557568   \n",
       "2             169  201385055_71273495308  749567106_99161211863_557568   \n",
       "3             169  201385055_71273495308  749567106_99161211863_557568   \n",
       "4             169  201385055_71273495308  749567106_99161211863_557568   \n",
       "...           ...                    ...                           ...   \n",
       "449826    9999839  948322592_28990736246  715530422_68620416793_515645   \n",
       "449827    9999839  948322592_28990736246  715530422_68620416793_515645   \n",
       "449828    9999839  948322592_28990736246  715530422_68620416793_515645   \n",
       "449829    9999839  948322592_28990736246  715530422_68620416793_515645   \n",
       "449830    9999839  948322592_28990736246  715530422_68620416793_515645   \n",
       "\n",
       "       process_step           date_time Variation      time_spent  \\\n",
       "0             start 2017-04-12 20:19:36        UN             NaT   \n",
       "1            step_1 2017-04-12 20:19:45        UN 0 days 00:00:09   \n",
       "2            step_2 2017-04-12 20:20:31        UN 0 days 00:00:46   \n",
       "3            step_3 2017-04-12 20:22:05        UN 0 days 00:01:34   \n",
       "4           confirm 2017-04-12 20:23:09        UN 0 days 00:01:04   \n",
       "...             ...                 ...       ...             ...   \n",
       "449826        start 2017-03-29 12:11:32        UN 0 days 00:02:37   \n",
       "449827       step_1 2017-03-29 12:11:35        UN 0 days 00:00:03   \n",
       "449828       step_2 2017-03-29 12:11:50        UN 0 days 00:00:15   \n",
       "449829       step_3 2017-03-29 12:12:28        UN 0 days 00:00:38   \n",
       "449830      confirm 2017-03-29 12:13:03        UN 0 days 00:00:35   \n",
       "\n",
       "        step_number  is_error  \n",
       "0                 1     False  \n",
       "1                 2     False  \n",
       "2                 3     False  \n",
       "3                 4     False  \n",
       "4                 5     False  \n",
       "...             ...       ...  \n",
       "449826            1     False  \n",
       "449827            2     False  \n",
       "449828            3     False  \n",
       "449829            4     False  \n",
       "449830            5     False  \n",
       "\n",
       "[449831 rows x 9 columns]"
      ]
     },
     "execution_count": 43,
     "metadata": {},
     "output_type": "execute_result"
    }
   ],
   "source": [
    "df_beh"
   ]
  },
  {
   "cell_type": "code",
   "execution_count": 29,
   "metadata": {},
   "outputs": [],
   "source": [
    "df_beh['time_spent'] = df_beh['time_spent'].fillna('0')"
   ]
  },
  {
   "cell_type": "code",
   "execution_count": 38,
   "metadata": {},
   "outputs": [],
   "source": [
    "df_beh_ex = df_beh[df_beh['Variation'] != 'UN']"
   ]
  },
  {
   "cell_type": "code",
   "execution_count": 39,
   "metadata": {},
   "outputs": [
    {
     "data": {
      "text/html": [
       "<div>\n",
       "<style scoped>\n",
       "    .dataframe tbody tr th:only-of-type {\n",
       "        vertical-align: middle;\n",
       "    }\n",
       "\n",
       "    .dataframe tbody tr th {\n",
       "        vertical-align: top;\n",
       "    }\n",
       "\n",
       "    .dataframe thead th {\n",
       "        text-align: right;\n",
       "    }\n",
       "</style>\n",
       "<table border=\"1\" class=\"dataframe\">\n",
       "  <thead>\n",
       "    <tr style=\"text-align: right;\">\n",
       "      <th></th>\n",
       "      <th>client_id</th>\n",
       "      <th>visitor_id</th>\n",
       "      <th>visit_id</th>\n",
       "      <th>process_step</th>\n",
       "      <th>date_time</th>\n",
       "      <th>Variation</th>\n",
       "      <th>time_spent</th>\n",
       "      <th>step_number</th>\n",
       "      <th>is_error</th>\n",
       "    </tr>\n",
       "  </thead>\n",
       "  <tbody>\n",
       "    <tr>\n",
       "      <th>5</th>\n",
       "      <td>555</td>\n",
       "      <td>402506806_56087378777</td>\n",
       "      <td>637149525_38041617439_716659</td>\n",
       "      <td>start</td>\n",
       "      <td>2017-04-15 12:57:56</td>\n",
       "      <td>Test</td>\n",
       "      <td>NaT</td>\n",
       "      <td>1</td>\n",
       "      <td>False</td>\n",
       "    </tr>\n",
       "    <tr>\n",
       "      <th>6</th>\n",
       "      <td>555</td>\n",
       "      <td>402506806_56087378777</td>\n",
       "      <td>637149525_38041617439_716659</td>\n",
       "      <td>step_1</td>\n",
       "      <td>2017-04-15 12:58:03</td>\n",
       "      <td>Test</td>\n",
       "      <td>0 days 00:00:07</td>\n",
       "      <td>2</td>\n",
       "      <td>False</td>\n",
       "    </tr>\n",
       "    <tr>\n",
       "      <th>7</th>\n",
       "      <td>555</td>\n",
       "      <td>402506806_56087378777</td>\n",
       "      <td>637149525_38041617439_716659</td>\n",
       "      <td>step_2</td>\n",
       "      <td>2017-04-15 12:58:35</td>\n",
       "      <td>Test</td>\n",
       "      <td>0 days 00:00:32</td>\n",
       "      <td>3</td>\n",
       "      <td>False</td>\n",
       "    </tr>\n",
       "    <tr>\n",
       "      <th>8</th>\n",
       "      <td>555</td>\n",
       "      <td>402506806_56087378777</td>\n",
       "      <td>637149525_38041617439_716659</td>\n",
       "      <td>step_3</td>\n",
       "      <td>2017-04-15 13:00:14</td>\n",
       "      <td>Test</td>\n",
       "      <td>0 days 00:01:39</td>\n",
       "      <td>4</td>\n",
       "      <td>False</td>\n",
       "    </tr>\n",
       "    <tr>\n",
       "      <th>9</th>\n",
       "      <td>555</td>\n",
       "      <td>402506806_56087378777</td>\n",
       "      <td>637149525_38041617439_716659</td>\n",
       "      <td>confirm</td>\n",
       "      <td>2017-04-15 13:00:34</td>\n",
       "      <td>Test</td>\n",
       "      <td>0 days 00:00:20</td>\n",
       "      <td>5</td>\n",
       "      <td>False</td>\n",
       "    </tr>\n",
       "    <tr>\n",
       "      <th>...</th>\n",
       "      <td>...</td>\n",
       "      <td>...</td>\n",
       "      <td>...</td>\n",
       "      <td>...</td>\n",
       "      <td>...</td>\n",
       "      <td>...</td>\n",
       "      <td>...</td>\n",
       "      <td>...</td>\n",
       "      <td>...</td>\n",
       "    </tr>\n",
       "    <tr>\n",
       "      <th>449820</th>\n",
       "      <td>9999729</td>\n",
       "      <td>834634258_21862004160</td>\n",
       "      <td>870243567_56915814033_814203</td>\n",
       "      <td>step_2</td>\n",
       "      <td>2017-05-08 16:08:40</td>\n",
       "      <td>Test</td>\n",
       "      <td>0 days 00:00:10</td>\n",
       "      <td>3</td>\n",
       "      <td>False</td>\n",
       "    </tr>\n",
       "    <tr>\n",
       "      <th>449821</th>\n",
       "      <td>9999729</td>\n",
       "      <td>834634258_21862004160</td>\n",
       "      <td>870243567_56915814033_814203</td>\n",
       "      <td>step_3</td>\n",
       "      <td>2017-05-08 16:09:19</td>\n",
       "      <td>Test</td>\n",
       "      <td>0 days 00:00:39</td>\n",
       "      <td>4</td>\n",
       "      <td>False</td>\n",
       "    </tr>\n",
       "    <tr>\n",
       "      <th>449822</th>\n",
       "      <td>9999729</td>\n",
       "      <td>834634258_21862004160</td>\n",
       "      <td>870243567_56915814033_814203</td>\n",
       "      <td>confirm</td>\n",
       "      <td>2017-05-08 16:09:40</td>\n",
       "      <td>Test</td>\n",
       "      <td>0 days 00:00:21</td>\n",
       "      <td>5</td>\n",
       "      <td>False</td>\n",
       "    </tr>\n",
       "    <tr>\n",
       "      <th>449823</th>\n",
       "      <td>9999832</td>\n",
       "      <td>145538019_54444341400</td>\n",
       "      <td>472154369_16714624241_585315</td>\n",
       "      <td>start</td>\n",
       "      <td>2017-05-16 16:46:03</td>\n",
       "      <td>Test</td>\n",
       "      <td>NaT</td>\n",
       "      <td>1</td>\n",
       "      <td>False</td>\n",
       "    </tr>\n",
       "    <tr>\n",
       "      <th>449824</th>\n",
       "      <td>9999832</td>\n",
       "      <td>145538019_54444341400</td>\n",
       "      <td>472154369_16714624241_585315</td>\n",
       "      <td>step_1</td>\n",
       "      <td>2017-05-16 16:46:11</td>\n",
       "      <td>Test</td>\n",
       "      <td>0 days 00:00:08</td>\n",
       "      <td>2</td>\n",
       "      <td>False</td>\n",
       "    </tr>\n",
       "  </tbody>\n",
       "</table>\n",
       "<p>321309 rows × 9 columns</p>\n",
       "</div>"
      ],
      "text/plain": [
       "        client_id             visitor_id                      visit_id  \\\n",
       "5             555  402506806_56087378777  637149525_38041617439_716659   \n",
       "6             555  402506806_56087378777  637149525_38041617439_716659   \n",
       "7             555  402506806_56087378777  637149525_38041617439_716659   \n",
       "8             555  402506806_56087378777  637149525_38041617439_716659   \n",
       "9             555  402506806_56087378777  637149525_38041617439_716659   \n",
       "...           ...                    ...                           ...   \n",
       "449820    9999729  834634258_21862004160  870243567_56915814033_814203   \n",
       "449821    9999729  834634258_21862004160  870243567_56915814033_814203   \n",
       "449822    9999729  834634258_21862004160  870243567_56915814033_814203   \n",
       "449823    9999832  145538019_54444341400  472154369_16714624241_585315   \n",
       "449824    9999832  145538019_54444341400  472154369_16714624241_585315   \n",
       "\n",
       "       process_step           date_time Variation      time_spent  \\\n",
       "5             start 2017-04-15 12:57:56      Test             NaT   \n",
       "6            step_1 2017-04-15 12:58:03      Test 0 days 00:00:07   \n",
       "7            step_2 2017-04-15 12:58:35      Test 0 days 00:00:32   \n",
       "8            step_3 2017-04-15 13:00:14      Test 0 days 00:01:39   \n",
       "9           confirm 2017-04-15 13:00:34      Test 0 days 00:00:20   \n",
       "...             ...                 ...       ...             ...   \n",
       "449820       step_2 2017-05-08 16:08:40      Test 0 days 00:00:10   \n",
       "449821       step_3 2017-05-08 16:09:19      Test 0 days 00:00:39   \n",
       "449822      confirm 2017-05-08 16:09:40      Test 0 days 00:00:21   \n",
       "449823        start 2017-05-16 16:46:03      Test             NaT   \n",
       "449824       step_1 2017-05-16 16:46:11      Test 0 days 00:00:08   \n",
       "\n",
       "        step_number  is_error  \n",
       "5                 1     False  \n",
       "6                 2     False  \n",
       "7                 3     False  \n",
       "8                 4     False  \n",
       "9                 5     False  \n",
       "...             ...       ...  \n",
       "449820            3     False  \n",
       "449821            4     False  \n",
       "449822            5     False  \n",
       "449823            1     False  \n",
       "449824            2     False  \n",
       "\n",
       "[321309 rows x 9 columns]"
      ]
     },
     "execution_count": 39,
     "metadata": {},
     "output_type": "execute_result"
    }
   ],
   "source": [
    "df_beh_ex"
   ]
  },
  {
   "cell_type": "code",
   "execution_count": 40,
   "metadata": {},
   "outputs": [
    {
     "name": "stderr",
     "output_type": "stream",
     "text": [
      "/var/folders/sp/p06qbz7d3qd0gsdys45vg8x80000gn/T/ipykernel_21849/3122511813.py:1: SettingWithCopyWarning: \n",
      "A value is trying to be set on a copy of a slice from a DataFrame.\n",
      "Try using .loc[row_indexer,col_indexer] = value instead\n",
      "\n",
      "See the caveats in the documentation: https://pandas.pydata.org/pandas-docs/stable/user_guide/indexing.html#returning-a-view-versus-a-copy\n",
      "  df_beh_ex['time_spent'] = df_beh_ex['time_spent'].fillna('0')\n"
     ]
    }
   ],
   "source": [
    "df_beh_ex['time_spent'] = df_beh_ex['time_spent'].fillna('0')"
   ]
  },
  {
   "cell_type": "code",
   "execution_count": 42,
   "metadata": {},
   "outputs": [],
   "source": [
    "#df_beh.to_csv('Proyectos semanales/Vanguard/df_beh.txt', index=False)"
   ]
  },
  {
   "cell_type": "markdown",
   "metadata": {},
   "source": [
    "Creamos dos df según son el grupo de test o de control "
   ]
  },
  {
   "cell_type": "code",
   "execution_count": 10,
   "metadata": {},
   "outputs": [],
   "source": [
    "df_test = df_beh[df_beh['Variation'] == 'Test']\n",
    "df_control = df_beh[df_beh['Variation'] == 'Control']"
   ]
  },
  {
   "cell_type": "markdown",
   "metadata": {},
   "source": [
    "Análisis del comportamiento de los usuarios"
   ]
  },
  {
   "cell_type": "markdown",
   "metadata": {},
   "source": [
    "1. Tasa de Finalización"
   ]
  },
  {
   "cell_type": "code",
   "execution_count": 14,
   "metadata": {},
   "outputs": [
    {
     "name": "stdout",
     "output_type": "stream",
     "text": [
      "Tasa de finalización: 26.47%\n"
     ]
    }
   ],
   "source": [
    "final_step_users_test = df_test[df_test['process_step'] == 'confirm']['client_id'].nunique()\n",
    "total_users = df_test['client_id'].nunique()\n",
    "\n",
    "completion_rate_test = final_step_users_test / 70609\n",
    "print(f\"Tasa de finalización: {completion_rate_test:.2%}\")\n"
   ]
  },
  {
   "cell_type": "code",
   "execution_count": 16,
   "metadata": {},
   "outputs": [
    {
     "name": "stdout",
     "output_type": "stream",
     "text": [
      "Tasa de finalización: 21.86%\n"
     ]
    }
   ],
   "source": [
    "final_step_users_control = df_control[df_control['process_step'] == 'confirm']['client_id'].nunique()\n",
    "total_users = df_control['client_id'].nunique()\n",
    "\n",
    "completion_rate_control = final_step_users_control / 70609\n",
    "print(f\"Tasa de finalización: {completion_rate_control:.2%}\")"
   ]
  },
  {
   "cell_type": "code",
   "execution_count": null,
   "metadata": {},
   "outputs": [],
   "source": [
    "2. Tiempo Dedicado a Cada Paso"
   ]
  },
  {
   "cell_type": "code",
   "execution_count": 33,
   "metadata": {},
   "outputs": [
    {
     "name": "stdout",
     "output_type": "stream",
     "text": [
      "Tiempo promedio dedicado a cada paso:\n",
      "process_step\n",
      "confirm   1 days 00:24:15.330060473\n",
      "start     3 days 15:30:50.642098449\n",
      "step_1    0 days 00:29:20.193023912\n",
      "step_2    0 days 00:01:14.071613535\n",
      "step_3    0 days 00:11:29.029775618\n",
      "Name: time_spent, dtype: timedelta64[ns]\n"
     ]
    }
   ],
   "source": [
    "# Revisar que la columna de tiempo esta en formato datetime\n",
    "df_beh['date_time'] = pd.to_datetime(df_beh['date_time'])\n",
    "\n",
    "# Ordenar por cliente y fecha para calcular la diferencia de tiempo entre pasos\n",
    "df_beh.sort_values(by=['client_id', 'date_time'], inplace=True)\n",
    "\n",
    "# Calcular la diferencia de tiempo\n",
    "df_beh['time_spent'] = df_beh.groupby('client_id')['date_time'].diff()\n",
    "\n",
    "# Calcular el tiempo medio dedicado a cada paso\n",
    "average_time_per_step = df_beh.groupby('process_step')['time_spent'].mean()\n",
    "\n",
    "print(\"Tiempo promedio dedicado a cada paso:\")\n",
    "print(average_time_per_step)\n"
   ]
  },
  {
   "cell_type": "markdown",
   "metadata": {},
   "source": [
    "3. Tasas de Error"
   ]
  },
  {
   "cell_type": "code",
   "execution_count": 34,
   "metadata": {},
   "outputs": [
    {
     "name": "stdout",
     "output_type": "stream",
     "text": [
      "Tasa de error por paso:\n",
      "process_step\n",
      "confirm         NaN\n",
      "start      0.209578\n",
      "step_1     0.084404\n",
      "step_2     0.081763\n",
      "step_3     0.003504\n",
      "dtype: float64\n"
     ]
    }
   ],
   "source": [
    "# Definir un orden numérico a cada paso\n",
    "step_order = {'start': 1, 'step_1': 2, 'step_2': 3, 'step_3': 4, 'confirm': 5} \n",
    "\n",
    "df_beh['step_number'] = df_beh['process_step'].map(step_order)\n",
    "\n",
    "# Marcar si cada paso es un error (retorno a un paso anterior)\n",
    "df_beh['is_error'] = df_beh.groupby('client_id')['step_number'].diff() < 0\n",
    "\n",
    "# Calcular la tasa de error por paso\n",
    "error_rates = df_beh[df_beh['is_error']].groupby('process_step').size() / df_beh.groupby('process_step').size()\n",
    "\n",
    "print(\"Tasa de error por paso:\")\n",
    "print(error_rates)\n"
   ]
  },
  {
   "cell_type": "markdown",
   "metadata": {},
   "source": []
  },
  {
   "cell_type": "markdown",
   "metadata": {},
   "source": []
  },
  {
   "cell_type": "markdown",
   "metadata": {},
   "source": []
  },
  {
   "cell_type": "code",
   "execution_count": 71,
   "metadata": {},
   "outputs": [],
   "source": [
    "#df_users.to_csv('Proyectos semanales/Vanguard/df_users.txt', index=False)"
   ]
  }
 ],
 "metadata": {
  "kernelspec": {
   "display_name": "base",
   "language": "python",
   "name": "python3"
  },
  "language_info": {
   "codemirror_mode": {
    "name": "ipython",
    "version": 3
   },
   "file_extension": ".py",
   "mimetype": "text/x-python",
   "name": "python",
   "nbconvert_exporter": "python",
   "pygments_lexer": "ipython3",
   "version": "3.11.7"
  }
 },
 "nbformat": 4,
 "nbformat_minor": 2
}
